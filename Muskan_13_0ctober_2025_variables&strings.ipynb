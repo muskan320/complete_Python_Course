{
 "cells": [
  {
   "cell_type": "markdown",
   "id": "eca45001-f158-413c-8c72-f5b063c1c027",
   "metadata": {},
   "source": [
    "<h1><center><b><u><span style=\"color:blue\">ASSIGNMENT-1 </span></u>(Python Basics)</b></center></h1>"
   ]
  },
  {
   "cell_type": "markdown",
   "id": "5f65a117-bb3b-437a-8834-fc386beb2dd9",
   "metadata": {},
   "source": [
    "<h2><b><u><span style=\"color:red\">Part A: Variables </span></u>(25 Questions)</b></h2>"
   ]
  },
  {
   "cell_type": "markdown",
   "id": "1ad3ca07-10eb-4248-a7e6-a3db969c9ffa",
   "metadata": {},
   "source": [
    "<h4><b>Ques1:</b> Define what a variable is in Python. Give an example.</h4>"
   ]
  },
  {
   "cell_type": "markdown",
   "id": "513c694a-2013-48ad-8d4a-483f9940bd2b",
   "metadata": {},
   "source": [
    "<h3><b>Answer:</b><u><span style=\"color:red\">Variables in Python:</span></u>\n",
    "<h5>In Python, variables are used to store data that can be referenced and manipulated during program execution. A variable is essentially a name that is assigned to a \n",
    "value. Unlike many other programming languages, Python variables do not require explicit declaration of type. The type of the variable is inferred based on the value assigned. \n",
    "Variables act as placeholders for data. They allow us to store and reuse values in our program.</h5>\n"
   ]
  },
  {
   "cell_type": "markdown",
   "id": "6dcc4cc8-b17e-4725-9cdb-cedead6a60f4",
   "metadata": {},
   "source": [
    "<h4><b><u>Example:</u></b></h4>"
   ]
  },
  {
   "cell_type": "markdown",
   "id": "8f3b805a-b6cf-48ad-ae04-a2a6b328029d",
   "metadata": {},
   "source": [
    "\n",
    "# Variable 'x' stores the integer value 3 \n",
    "x = 3 \n",
    "# Variable 'name' stores the string \"CSE\" \n",
    "name = \"CSE\"  \n",
    "print(x) \n",
    "print(name) \n"
   ]
  },
  {
   "cell_type": "markdown",
   "id": "255dc338-bce1-44a0-ad8f-7012da739cf2",
   "metadata": {},
   "source": [
    "<h4><b>Ques2:</b>Create 3 variables x, y, and z with integer, float, and string values. Print their types.</h4>"
   ]
  },
  {
   "cell_type": "markdown",
   "id": "9ccf0c0e-4cce-4cc1-94fd-953ea306a22b",
   "metadata": {},
   "source": [
    "<h5><u><b>Answer:</b></u></h5>"
   ]
  },
  {
   "cell_type": "code",
   "execution_count": 14,
   "id": "03b0ec5d-1bf8-4e93-8e6c-c983976e23b6",
   "metadata": {},
   "outputs": [
    {
     "name": "stdout",
     "output_type": "stream",
     "text": [
      "x: 55   <class 'int'>\n",
      "y: 3.14   <class 'float'>\n",
      "z: PYTHON   <class 'str'>\n"
     ]
    }
   ],
   "source": [
    "x=55  #integer value\n",
    "y=3.14  #float value\n",
    "z=\"PYTHON\"  #string value\n",
    "print(\"x:\",x,\" \",type(x))\n",
    "print(\"y:\",y,\" \",type(y))\n",
    "print(\"z:\",z,\" \",type(z))"
   ]
  },
  {
   "cell_type": "markdown",
   "id": "a92ac67c-5c2e-4abb-a0c7-3300f58514e9",
   "metadata": {},
   "source": [
    "<h4><b>Ques3:</b>Swap the values of two variables without using a third variable. </h5>\n",
    "<h5><u><b>Answer:</b></u></h5>\n"
   ]
  },
  {
   "cell_type": "code",
   "execution_count": 15,
   "id": "4f5b5cdb-9035-4121-bf59-f1cc45157162",
   "metadata": {},
   "outputs": [
    {
     "name": "stdout",
     "output_type": "stream",
     "text": [
      "Before Swapping\n",
      "x: 15\n",
      "y: 17\n",
      "After Swapping\n",
      "x: 17\n",
      "y: 15\n"
     ]
    }
   ],
   "source": [
    "x=15\n",
    "y=17\n",
    "print(\"Before Swapping\")    #before swapping\n",
    "print(\"x:\",x)\n",
    "print(\"y:\",y)\n",
    "print(\"After Swapping\")    #after swapping\n",
    "print(\"x:\",y)\n",
    "print(\"y:\",x)"
   ]
  },
  {
   "cell_type": "markdown",
   "id": "37baaa9e-87ba-4bff-b91a-c0c2b81aa7b6",
   "metadata": {},
   "source": [
    "<h4><b>Ques4:</b>Assign a single value to multiple variables in one line. Show with an example. </h5>\n",
    "<h5><u><b>Answer:</b></u><h5>"
   ]
  },
  {
   "cell_type": "code",
   "execution_count": 16,
   "id": "795f102b-c1bb-4118-9d86-b2e87c2c6fbd",
   "metadata": {},
   "outputs": [
    {
     "name": "stdout",
     "output_type": "stream",
     "text": [
      "x= 10\n",
      "y= 10\n",
      "z= 10\n"
     ]
    }
   ],
   "source": [
    "x=y=z=10   #assigning single value to multiple variable\n",
    "print(\"x=\",x)\n",
    "print(\"y=\",y)\n",
    "print(\"z=\",z)\n"
   ]
  },
  {
   "cell_type": "markdown",
   "id": "a05a5e4a-5503-483c-b8d1-c2fb05374e8e",
   "metadata": {},
   "source": [
    "<h4><b>Ques5:</b>Assign multiple values to multiple variables in one line. Show with an example. </h4>\n",
    "<h5><u><b>Answer:<u></b></h5>"
   ]
  },
  {
   "cell_type": "code",
   "execution_count": 24,
   "id": "b243f6ed-7c45-423d-8e38-39b10889a395",
   "metadata": {},
   "outputs": [
    {
     "name": "stdout",
     "output_type": "stream",
     "text": [
      "x: 10\n",
      "y: 20\n",
      "z: 30\n"
     ]
    }
   ],
   "source": [
    "x,y,z=10,20,30\n",
    "print(\"x:\",x)\n",
    "print(\"y:\",y)\n",
    "print(\"z:\",z)"
   ]
  },
  {
   "cell_type": "markdown",
   "id": "9f7a6feb-d2a8-4c20-bec0-034520696983",
   "metadata": {},
   "source": [
    "<h4><b>Ques6:</b>Explain the difference between = and == with examples.</h4>\n",
    "<h5><u><b>Answer:<u></b></h5> \n"
   ]
  },
  {
   "cell_type": "markdown",
   "id": "1bcca022-d50f-48fd-9250-62db7af16593",
   "metadata": {},
   "source": [
    "<h3><b><u><span style=\"color:red\">= operator :</span></u></b></h3>"
   ]
  },
  {
   "cell_type": "markdown",
   "id": "913bcd24-006e-43fd-8490-15b5a263ef32",
   "metadata": {},
   "source": [
    "##### <h5>= is a <u>assignment operator</u> which is used to assign the values to variable</h5>\n",
    "<h5><b><u>Example:</u></b></h5>"
   ]
  },
  {
   "cell_type": "code",
   "execution_count": 25,
   "id": "94c34973-b67f-4c20-9bdc-5fd25786de05",
   "metadata": {},
   "outputs": [
    {
     "name": "stdout",
     "output_type": "stream",
     "text": [
      "10\n"
     ]
    }
   ],
   "source": [
    "x=10 #assignment operator\n",
    "print(x)"
   ]
  },
  {
   "cell_type": "markdown",
   "id": "738e9294-86a8-4d5f-b8aa-da09b2fe821a",
   "metadata": {},
   "source": [
    "<h5>== is a <u>Equality Operator </u>which is used to compare two value .</h5>"
   ]
  },
  {
   "cell_type": "code",
   "execution_count": 28,
   "id": "26d1a02f-932c-4827-ba61-f45f4b4cf26b",
   "metadata": {},
   "outputs": [
    {
     "name": "stdout",
     "output_type": "stream",
     "text": [
      "True\n",
      "False\n"
     ]
    }
   ],
   "source": [
    "x=10\n",
    "print(x==10)   #comparison operator (True)\n",
    "print(x==15)   #compariosn operator(False)"
   ]
  },
  {
   "cell_type": "markdown",
   "id": "6dc73e19-0075-4f31-bcd1-c0db3f9bbb68",
   "metadata": {},
   "source": [
    "<h4><b>Ques7:</b>Write a program to calculate the area of a rectangle using variables length and Breadth</h4>\n",
    "<h5><u><b>Answer:<u></b></h5> "
   ]
  },
  {
   "cell_type": "code",
   "execution_count": 33,
   "id": "cf4650fe-a9d8-4185-8fa2-5bf653e51bb2",
   "metadata": {},
   "outputs": [
    {
     "name": "stdin",
     "output_type": "stream",
     "text": [
      "Enter the length of rectangle : 5\n",
      "Enter the breadth of rectangle : 5\n"
     ]
    },
    {
     "name": "stdout",
     "output_type": "stream",
     "text": [
      "Area of rectangle is : 25.0\n"
     ]
    }
   ],
   "source": [
    "length=float(input(\"Enter the length of rectangle :\"))\n",
    "breadth=float(input(\"Enter the breadth of rectangle :\"))\n",
    "area=length*breadth\n",
    "print(\"Area of rectangle is :\",area)"
   ]
  },
  {
   "cell_type": "markdown",
   "id": "2fedda6a-0d9b-4d56-ac23-5d37ce1aede6",
   "metadata": {},
   "source": [
    "<h4><b>Ques8:</b>Write a Python program to compute the average of three numbers stored in variables.</h4>\n",
    "<h5><u><b>Answer:<u></b></h5> "
   ]
  },
  {
   "cell_type": "code",
   "execution_count": 36,
   "id": "0146d093-1c00-4845-a0fa-16e3b69dd1b5",
   "metadata": {},
   "outputs": [
    {
     "name": "stdin",
     "output_type": "stream",
     "text": [
      "Enter the first number 1\n",
      "Enter the Second number 2\n",
      "Enter the Third number 3\n"
     ]
    },
    {
     "name": "stdout",
     "output_type": "stream",
     "text": [
      "The average of three numbers is: 4.0\n"
     ]
    }
   ],
   "source": [
    "num1= int(input(\"Enter the first number\"))\n",
    "num2= int(input(\"Enter the Second number\"))\n",
    "num3= int(input(\"Enter the Third number\"))\n",
    "avg=num1+num2+num3/3\n",
    "print(\"The average of three numbers is:\",avg)"
   ]
  },
  {
   "cell_type": "markdown",
   "id": "03090dce-a3b2-4334-89b5-b86891ac48b0",
   "metadata": {},
   "source": [
    "<h4><b>Ques9:</b>Create variables a = 10 and b = 5. Perform addition, subtraction, multiplication, \n",
    "division, modulus, and floor division. </h4>\n",
    "<h5><u><b>Answer:<u></b></h5> "
   ]
  },
  {
   "cell_type": "code",
   "execution_count": 37,
   "id": "66de0b36-524d-4266-a4a2-2e4f7a248a88",
   "metadata": {},
   "outputs": [
    {
     "name": "stdout",
     "output_type": "stream",
     "text": [
      "addition: 15\n",
      "substraction: 5\n",
      "multiplication: 50\n",
      "division: 2.0\n",
      "modulus: 0\n",
      "floor division 2\n"
     ]
    }
   ],
   "source": [
    "a=10\n",
    "b=5\n",
    "print(\"addition:\",a+b)   #addition\n",
    "print(\"substraction:\",a-b)  #substraction\n",
    "print(\"multiplication:\",a*b) #multiplication\n",
    "print(\"division:\",a/b)  #division\n",
    "print(\"modulus:\",a%b) #modulus\n",
    "print(\"floor division\",a//b)  #floor division\n"
   ]
  },
  {
   "cell_type": "markdown",
   "id": "0cd33506-3e19-4e14-bdc5-4d6c21f97a2c",
   "metadata": {},
   "source": [
    "<h4><b>Ques10:</b> What are constants? Explain with examples in Python.</h4>\n",
    "<h5><u><b>Answer:<u></b></u></h5><h3><span style=\"color:red\">Constants:</span></h3> "
   ]
  },
  {
   "cell_type": "markdown",
   "id": "bc92418f-869a-4b64-ad99-798237be5d7f",
   "metadata": {},
   "source": [
    "<h5>A <u>Constant</u> is a variable whose value is not meant to change throught the program.Constants are also known as literals in python. These are written in the uppercase.\n",
    "<h5><b>Example : </b>PI=3.14</h5>\n"
   ]
  },
  {
   "cell_type": "markdown",
   "id": "6b14e9b8-bb5d-48eb-84db-9a95225fd51a",
   "metadata": {},
   "source": [
    "<h4><b>Ques11:</b>Define variable naming rules in Python with correct and incorrect examples. </h4>\n",
    "<h5><u><b>Answer:</u><span style=\"color:red\">Rules for naming variable:</span></b></h5> "
   ]
  },
  {
   "cell_type": "markdown",
   "id": "8912ae5e-9c80-41dd-80e8-21460a132494",
   "metadata": {},
   "source": [
    "<h5>To use variables effectively, we must follow Python naming rules: </h5>\n",
    "\n",
    "-> Variable names can only contain letters, digits and underscores (_). \n",
    "    \n",
    "-> A variable name cannot start with a digit. \n",
    "    \n",
    "-> Variable names are case-sensitive (myVar and myvar are different). \n",
    "\n",
    "-> Avoid using Python keywords (e.g., if, else, for) as variable names."
   ]
  },
  {
   "cell_type": "markdown",
   "id": "8e706b9b-175d-46af-a0d3-cb9777e11cfd",
   "metadata": {},
   "source": [
    "<h5><b><u>Correct Examples:</u></b></h5>\n"
   ]
  },
  {
   "cell_type": "code",
   "execution_count": 44,
   "id": "e626f8c0-9eab-49a8-9132-9b026c9833bd",
   "metadata": {},
   "outputs": [],
   "source": [
    "_colour = \"red\" \n",
    "total_score = 90 \n"
   ]
  },
  {
   "cell_type": "markdown",
   "id": "afe7f69c-bea3-41b4-9b7a-a21bc672e4e8",
   "metadata": {},
   "source": [
    "<h4><b><u>Incorrect Example</u><b></h5> "
   ]
  },
  {
   "cell_type": "code",
   "execution_count": null,
   "id": "8d7e906e-79bc-4a08-accf-93aa511d3c6e",
   "metadata": {},
   "outputs": [],
   "source": [
    "1name = \"Error\"  # Starts with a digit \n",
    "class = 10       \n",
    "# 'class' is a reserved keyword"
   ]
  },
  {
   "cell_type": "markdown",
   "id": "db565453-f1a9-43ea-99fe-7494eaf82d21",
   "metadata": {},
   "source": [
    " <h4><b>Ques12:</b> What is the difference between local and global variables? Demonstrate with code. </h4>\n",
    "<h5><u><b>Answer:</u></b></h5> "
   ]
  },
  {
   "cell_type": "markdown",
   "id": "d08c1621-e3d4-4dbb-a189-a2a6e9dcf9d8",
   "metadata": {},
   "source": [
    "<table border=\"3\">\n",
    " <thead>\n",
    "    <tr>\n",
    "     <th>Features</th>\n",
    "     <th>Global Variable</th>\n",
    "     <th>Local Variable</th>\n",
    "    </tr>\n",
    " </thead>\n",
    " <tbody>\n",
    "  <tr>\n",
    "    <td><b>Scope<b></td>\n",
    "<td>Anywhere in program </td>\n",
    "    <td>Only inside the function</td>\n",
    "    </tr>\n",
    "    \n",
    "   <tr>\n",
    "      <td><b>Accessibility</b></td>\n",
    "      <td>Can be accessed & modified</td>\n",
    "      <td>Can be accessed inside the Function</td>\n",
    "    </tr>\n",
    "    </tbody>\n",
    "</table>\n"
   ]
  },
  {
   "cell_type": "markdown",
   "id": "d5e444a2-e73e-47fe-98a3-090a2148fb1b",
   "metadata": {},
   "source": [
    "<h4><b>Demonstrating the code</b><h4>"
   ]
  },
  {
   "cell_type": "code",
   "execution_count": null,
   "id": "16811e23-a6de-4df3-8e17-b797226132d8",
   "metadata": {},
   "outputs": [],
   "source": [
    "x=10\n",
    "def show():\n",
    "    y=5\n",
    "    print(\"Inside Function:\")\n",
    "    print(\"x:\",x)  #accessing global variable\n",
    "    print(\"y:\",y)  #accesing local variable\n",
    "show()\n",
    "   print(\"Outside Function:\")\n",
    "   print(\"x:\",x) #only global variable can be accessed outside\n",
    "   print(\"y:\",y) #accessing it cause error as y is local\n"
   ]
  },
  {
   "cell_type": "markdown",
   "id": "6ab7470c-d8f5-456a-a445-66f10cc94bf8",
   "metadata": {},
   "source": [
    "#### <h4><b>Ques13:</b> Show an example of dynamic typing in Python.</h4>\n",
    "<h5><u><b>Answer:<u></b></h5> "
   ]
  },
  {
   "cell_type": "markdown",
   "id": "5f74cd44-b80f-4d3c-bb0a-953fe7825a08",
   "metadata": {},
   "source": [
    "<h5><span style=\"color:red\">Dynamic Typing</span> </h5>\n",
    "<h5>Python variables are dynamically typed, meaning the same variable can hold \n",
    "different types of values during execution. </h5>\n",
    "x = 10 \n",
    "\n",
    "x = \"Now a string\" \n",
    "\n",
    "<b>Multiple Assignments </b>\n",
    "\n",
    "Python allows multiple variables to be assigned values in a single line."
   ]
  },
  {
   "cell_type": "markdown",
   "id": "ba09caba-79a1-438b-b2b7-7263af754958",
   "metadata": {},
   "source": [
    "<h4><b>Ques14:</b> Explain type casting with an example of converting integer to float and string to integer.</h4>\n",
    "<h5><u><b>Answer:</u><span style=\"color:red\">Type Casting:</span></b></h5> \n",
    "\n"
   ]
  },
  {
   "cell_type": "code",
   "execution_count": null,
   "id": "40eb8c31-020d-458f-a691-9a934d383594",
   "metadata": {},
   "outputs": [],
   "source": [
    "Type Casting is the method to convert the Python variable datatype into a certain \n",
    "data type in order to perform the required operation by users. In this article, we will \n",
    "see the various techniques for typecasting. There can be two types of Type Casting \n",
    "in Python\n",
    "                \n",
    "● Python Implicit Type Conversion \n",
    "● Python Explicit Type Conversion\n",
    "\n",
    "<b>convert integer to float.</b>\n"
   ]
  },
  {
   "cell_type": "code",
   "execution_count": 54,
   "id": "8de56bc8-bd49-4b5e-8ae0-3ec6770e06fd",
   "metadata": {},
   "outputs": [
    {
     "name": "stdout",
     "output_type": "stream",
     "text": [
      "55\n",
      "<class 'int'>\n",
      "55.0\n",
      "<class 'float'>\n"
     ]
    }
   ],
   "source": [
    "n=55\n",
    "print(n)\n",
    "print(type(n))\n",
    "s=float(n)\n",
    "print(s)\n",
    "print(type(s))"
   ]
  },
  {
   "cell_type": "markdown",
   "id": "f32e8cd0-5e42-4008-8439-22c6521cc92f",
   "metadata": {},
   "source": [
    "<b>Convert string to integer</b>"
   ]
  },
  {
   "cell_type": "code",
   "execution_count": 56,
   "id": "663a9141-fd97-43d4-aa12-e22800a1e33c",
   "metadata": {},
   "outputs": [
    {
     "name": "stdout",
     "output_type": "stream",
     "text": [
      "<class 'str'>\n",
      "<class 'int'>\n"
     ]
    }
   ],
   "source": [
    "\n",
    "t=\"57\"\n",
    "print(type(t))\n",
    "l=int(t)\n",
    "print(type(l))\n"
   ]
  },
  {
   "cell_type": "markdown",
   "id": "cf6d8d91-3e8c-49cf-8af9-d401b70a027c",
   "metadata": {},
   "source": [
    "<h4><b>Ques15:</b>Write a program to calculate simple interest using variables. </h4>\n",
    "<h5><u><b>Answer:<u></b></h5> "
   ]
  },
  {
   "cell_type": "code",
   "execution_count": 58,
   "id": "49c9e5fb-0b36-413f-80d5-705a47a13c75",
   "metadata": {},
   "outputs": [
    {
     "name": "stdin",
     "output_type": "stream",
     "text": [
      "Enter the Principle amount 10\n",
      "Enter the rate 20\n",
      "Enter the time 30\n"
     ]
    },
    {
     "name": "stdout",
     "output_type": "stream",
     "text": [
      "The simple Interest is: 60.0\n"
     ]
    }
   ],
   "source": [
    "Principle=int(input(\"Enter the Principle amount\"))\n",
    "Rate=int(input(\"Enter the rate\"))\n",
    "Time=int(input(\"Enter the time\"))\n",
    "SI=Principle*Rate*Time/100\n",
    "print(\"The simple Interest is:\",SI)"
   ]
  },
  {
   "cell_type": "markdown",
   "id": "8d9e6ef6-c509-4ea2-a082-51b3d7e5918a",
   "metadata": {},
   "source": [
    "<h4><b>Ques16:</b> Store your name, age, and course name in variables. Print them using formatted string \n",
    "(f-string).</h4>\n",
    "<h5><u><b>Answer:<u></b></h5> "
   ]
  },
  {
   "cell_type": "code",
   "execution_count": 63,
   "id": "16f43000-69d0-4014-b824-46d805117cfb",
   "metadata": {},
   "outputs": [
    {
     "name": "stdout",
     "output_type": "stream",
     "text": [
      "my name is Muskan ,I am 19 years old, and I am currently pursuing Btech(CSE(AI&DS)).\n"
     ]
    }
   ],
   "source": [
    "name=\"Muskan\"\n",
    "age=19\n",
    "course=\"Btech(CSE(AI&DS))\"\n",
    "print(f\"my name is {name} ,I am {age} years old, and I am currently pursuing {course}.\")"
   ]
  },
  {
   "cell_type": "markdown",
   "id": "1fd2a5a2-98f1-4843-9d29-510661e3ce5c",
   "metadata": {},
   "source": [
    "<h4><b>Ques17:</b>Write a program to swap two numbers using a temporary variable.</h4>\n",
    "<h5><u><b>Answer:<u></b></h5> \n",
    "\n"
   ]
  },
  {
   "cell_type": "markdown",
   "id": "2e86d3b2-c48c-4864-8893-df63411f3cbc",
   "metadata": {},
   "source": [
    "a=5\n",
    "b=7\n",
    "print(\"Before Swapping\")\n",
    "temp=a\n",
    "a=b\n",
    "b=temp\n",
    "print(\"After Swapping a=\",a,\"b=\",b)"
   ]
  },
  {
   "cell_type": "markdown",
   "id": "3af52990-9ebf-434d-a2e5-ec7d964ad5c0",
   "metadata": {},
   "source": [
    "<h4><b>Ques18:</b> Explain mutable vs immutable objects. Which category does a string belong to ?</h4>\n",
    "<h5><u><b>Answer:<u></b></h5> \n",
    "\n"
   ]
  },
  {
   "cell_type": "markdown",
   "id": "9ac0194d-d86c-4bf6-b85a-b6627efb869b",
   "metadata": {},
   "source": [
    "<h3><b><u><span style=\"color:red\">Mutable Objects</span></u></b></h3>\n",
    "\n",
    "<h5>Mutable objects can be changed after they are created -their contents(values,elements,or state)can be modified in place.\n",
    "\n",
    "<h4><b>Examples:</b></h4>\n",
    "*List,dictionary,set \n"
   ]
  },
  {
   "cell_type": "markdown",
   "id": "0c0ac913-cd95-49ec-aad7-9d11700ab70c",
   "metadata": {},
   "source": [
    "<h3><b><u><span style=\"color:red\">Immutable Objects</span></u></b></h3>\n",
    "<h5>Immutuable objects are those that cannot be changed. No chage once they are created. Any modification creates a new object.\n",
    "<h4><b>Examples:</b></h4>\n",
    "*int,float,str,tuple,frozenset,bytes\n",
    "\n",
    "<h3><u><b>STRING</u> is a immutable object."
   ]
  },
  {
   "cell_type": "markdown",
   "id": "648f2deb-b67f-4b7c-8478-c2bc73fed26a",
   "metadata": {},
   "source": [
    "<h4><b>Ques19:</b> Write a program to convert temperature from Celsius to Fahrenheit using variables.</h4>\n",
    "<h5><u><b>Answer:<u></b></h5> \n",
    "\n"
   ]
  },
  {
   "cell_type": "code",
   "execution_count": 69,
   "id": "0bb694f1-2f6d-46b9-a05a-66c0ca637cdf",
   "metadata": {},
   "outputs": [
    {
     "name": "stdin",
     "output_type": "stream",
     "text": [
      "Enter the temperature in celsius 25\n"
     ]
    },
    {
     "name": "stdout",
     "output_type": "stream",
     "text": [
      "The temperature in celsius: 25\n",
      "The temperature in Fahrenheit: 77.0\n"
     ]
    }
   ],
   "source": [
    "Celsius=int(input(\"Enter the temperature in celsius\"))\n",
    "Fahrenheit=(Celsius*9/5)+32\n",
    "print(\"The temperature in celsius:\",Celsius)\n",
    "print(\"The temperature in Fahrenheit:\",Fahrenheit)"
   ]
  },
  {
   "cell_type": "markdown",
   "id": "378f8bea-58e2-4b11-95c7-335ac47cf7c5",
   "metadata": {},
   "source": [
    "<h4><b>Ques20:</b>Create a variable radius. Calculate the area and circumference of a circle.</h4>\n",
    "<h5><u><b>Answer:<u></b></h5> \n",
    " \n"
   ]
  },
  {
   "cell_type": "code",
   "execution_count": 68,
   "id": "e1fdd10b-14ae-4d9e-911d-8a48c476db22",
   "metadata": {},
   "outputs": [
    {
     "name": "stdin",
     "output_type": "stream",
     "text": [
      "Enter the radius of a circle: 5\n"
     ]
    },
    {
     "name": "stdout",
     "output_type": "stream",
     "text": [
      "The area of a circle is: 78.5\n",
      "The circumference of a circle is: 31.400000000000002\n"
     ]
    }
   ],
   "source": [
    "Radius=int(input(\"Enter the radius of a circle:\"))\n",
    "area=3.14*Radius**2\n",
    "circumference=2*3.14*Radius\n",
    "print(\"The area of a circle is:\",area)\n",
    "print(\"The circumference of a circle is:\",circumference)\n"
   ]
  },
  {
   "cell_type": "markdown",
   "id": "ee2befa2-ca0d-4e9a-a1c2-d402141c5bb5",
   "metadata": {},
   "source": [
    "<h4><b>Ques21:</b>Demonstrate concatenation of integer and string with type conversion. </h4>\n",
    "<h5><u><b>Answer:<u></b></h5> \n",
    "\n"
   ]
  },
  {
   "cell_type": "code",
   "execution_count": 65,
   "id": "d48aab17-2535-4c9f-9d25-7e3678702dac",
   "metadata": {},
   "outputs": [
    {
     "name": "stdout",
     "output_type": "stream",
     "text": [
      "5 bird\n"
     ]
    }
   ],
   "source": [
    "num=5  #integer\n",
    "text=\"bird\"   #string\n",
    "result=str(num)+\" \"+ text  #concatenation\n",
    "print(result)"
   ]
  },
  {
   "cell_type": "markdown",
   "id": "2b6d24e7-1fa0-4350-8671-a31ab1fbb03e",
   "metadata": {},
   "source": [
    "<h4><b>Ques22:</b>What happens if you use an undefined variable in Python? Show an example.</h4>\n",
    "<h5><u><b>Answer:<u></b></h5> \n",
    "\n"
   ]
  },
  {
   "cell_type": "markdown",
   "id": "2715bb36-bf89-4e1c-98a5-c618a2241c18",
   "metadata": {},
   "source": [
    "<h5>If we use undefined variable in Python,undefined variable means variable that has not assigned any value yet-then Python will raise <u>Name Error."
   ]
  },
  {
   "cell_type": "markdown",
   "id": "1484643d-30cd-4ff6-a896-52e8be78211a",
   "metadata": {},
   "source": [
    "print(o)  #trying to use x before defining it."
   ]
  },
  {
   "cell_type": "markdown",
   "id": "396c60e0-e9d5-4d4d-a76b-7a87bcb8da02",
   "metadata": {},
   "source": [
    "<b>NameError:name'o' is not defined </b>"
   ]
  },
  {
   "cell_type": "markdown",
   "id": "53547627-2c59-40a7-9bf9-d1ca02d86695",
   "metadata": {},
   "source": [
    "<h4><b>Ques23:</b>Write a program to calculate the perimeter of a triangle using variables. </h4>\n",
    "<h5><u><b>Answer:<u></b></h5> \n",
    "\n"
   ]
  },
  {
   "cell_type": "code",
   "execution_count": 66,
   "id": "720da740-8a86-435c-a1d1-2aa111a3725a",
   "metadata": {},
   "outputs": [
    {
     "name": "stdin",
     "output_type": "stream",
     "text": [
      "Enter the side of the traingle 5\n"
     ]
    },
    {
     "name": "stdout",
     "output_type": "stream",
     "text": [
      "The perimeter of the Triangle 15\n"
     ]
    }
   ],
   "source": [
    "side=int(input(\"Enter the side of the traingle:\"))\n",
    "perimeter=3*side\n",
    "print(\"The perimeter of the Triangle:\",perimeter)"
   ]
  },
  {
   "cell_type": "markdown",
   "id": "4ff2a531-ad4d-4781-9b27-c5f165e39424",
   "metadata": {},
   "source": [
    "<h4><b>Ques24:</b>Store marks of 5 subjects in variables. Calculate and print total and percentage. </h4>\n",
    "<h5><u><b>Answer:<u></b></h5> \n",
    "\n"
   ]
  },
  {
   "cell_type": "code",
   "execution_count": 82,
   "id": "fcc5aba4-a466-4d37-aa98-31d59179ac1d",
   "metadata": {},
   "outputs": [
    {
     "name": "stdin",
     "output_type": "stream",
     "text": [
      "Enter the marks of first subject 50\n",
      "Enter the marks of second subject 49\n",
      "Enter the marks of third subject 50\n",
      "Enter the marks of fourth subject 49\n",
      "Enter the marks of fifth subject 50\n"
     ]
    },
    {
     "name": "stdout",
     "output_type": "stream",
     "text": [
      "Marks of 5 subjects:\n",
      "50 49 50 49 50\n",
      "The total marks of 5 subjects: 248\n",
      "The percentage of 5 subjects: 49.6\n"
     ]
    }
   ],
   "source": [
    "sub1=int(input(\"Enter the marks of first subject\"))\n",
    "sub2=int(input(\"Enter the marks of second subject\"))\n",
    "sub3=int(input(\"Enter the marks of third subject\"))\n",
    "sub4=int(input(\"Enter the marks of fourth subject\"))\n",
    "sub5=int(input(\"Enter the marks of fifth subject\"))\n",
    "Total=sub1+sub2+sub3+sub4+sub5\n",
    "Percentage=(Total/500)*100\n",
    "print(\"Marks of 5 subjects:\")\n",
    "print(sub1,sub2,sub3,sub4,sub5)\n",
    "print(\"The total marks of 5 subjects:\",Total)\n",
    "print(\"The percentage of 5 subjects:\",Percentage)\n"
   ]
  },
  {
   "cell_type": "markdown",
   "id": "63576572-5b7e-48b5-8450-2ae5a923ce29",
   "metadata": {},
   "source": [
    "<h4><b>Ques25:</b> Explain the difference between is and == operators with examples.</h4>\n",
    "<h5><u><b>Answer:<u></b></h5> \n",
    "\n"
   ]
  },
  {
   "cell_type": "markdown",
   "id": "60a911a8-e55e-4cb7-b41a-ccb606713418",
   "metadata": {},
   "source": [
    "<h3><u><span style=\"color:red\">Is Operator</span></u></h3>\n",
    "<h4>It is an Identity Operator that compares the memory location that is object identity.\n",
    "\n",
    "\n",
    "<h3><u><span style=\"color:red\">== Operator</span></u></h3>\n",
    "<h4>It is an Equality Operator that compares the values of objects.\n",
    "    \n",
    "<h3><b><u>Example:</u></b></h3>\n",
    "\n"
   ]
  },
  {
   "cell_type": "code",
   "execution_count": 79,
   "id": "42d1a026-bb71-4672-9774-93f9e86912b0",
   "metadata": {},
   "outputs": [
    {
     "name": "stdout",
     "output_type": "stream",
     "text": [
      "False\n",
      "True\n"
     ]
    }
   ],
   "source": [
    "a=[1,2,3]\n",
    "b=[1,2,3]\n",
    "print(a is b) #False-different objects in memory\n",
    "print(a == b) #True-same contents"
   ]
  },
  {
   "cell_type": "markdown",
   "id": "0339dd54-f33f-46d6-81b2-9d2cdd991515",
   "metadata": {},
   "source": [
    "<h2><b><u><span style=\"color:red\">Part B: Strings</span></u>(39 Questions)</b><h2>"
   ]
  },
  {
   "cell_type": "markdown",
   "id": "7153a448-1974-4533-ad77-dd900587d87b",
   "metadata": {},
   "source": [
    "<h4><b>Ques26:</b>Define what a string is in Python. Give 3 examples of string declarations.</h4>\n",
    "<h5><u><b>Answer:<u></b></h5>"
   ]
  },
  {
   "cell_type": "markdown",
   "id": "4addcab1-5b00-4a7f-a87e-96d375bdcb9d",
   "metadata": {},
   "source": [
    "<h3><u><b><span style=\"color:red\">Strings</span></b></u></h3>\n",
    "\n",
    "<h5>Python Strings are arrays of bytes representing Unicode characters. In Python, there is no character data type Python, a character is a string of length one. It is \n",
    "represented by the str class. Strings in Python can be created using single quotes, double quotes or even triple \n",
    "quotes. We can access individual characters of a String using index.</h5>"
   ]
  },
  {
   "cell_type": "markdown",
   "id": "ad333ca3-656c-4c1e-aff8-ef1ed51bd4e7",
   "metadata": {},
   "source": [
    "<h4><b>Examples:</b></h4>"
   ]
  },
  {
   "cell_type": "code",
   "execution_count": 84,
   "id": "1035504a-ecd4-4efe-9a87-08e6a38f1238",
   "metadata": {},
   "outputs": [],
   "source": [
    "name='Muskan'  #using single quotes\n",
    "book=\"Atomic Habits\"  #using double quotes\n",
    "sentence=''' Hello my name is Ankita.'''#using triple quotes"
   ]
  },
  {
   "cell_type": "markdown",
   "id": "38762442-4a09-49be-8ccf-bb05a405858e",
   "metadata": {},
   "source": [
    "<h4><b>Ques27:</b>Write a program to print your name in uppercase, lowercase, and title case.</h4>\n",
    "<h5><u><b>Answer:<u></b></h5>"
   ]
  },
  {
   "cell_type": "code",
   "execution_count": 88,
   "id": "dae77ed8-871d-4ee8-85a1-0e7f53d1c493",
   "metadata": {},
   "outputs": [
    {
     "name": "stdout",
     "output_type": "stream",
     "text": [
      "Name in upper case: MUSKAN\n",
      "Name in lower case: muskan\n",
      "Name in title: Muskan\n"
     ]
    }
   ],
   "source": [
    "name=\"MUSkan\"\n",
    "print(\"Name in upper case:\",name.upper())\n",
    "print(\"Name in lower case:\",name.lower())\n",
    "print(\"Name in title:\",name.title())\n",
    "\n"
   ]
  },
  {
   "cell_type": "markdown",
   "id": "8865ef09-662c-433d-bd9f-47e7774ae75e",
   "metadata": {},
   "source": [
    "<h4><b>Ques28:</b>Find the length of a string using len(). </h4>\n",
    "<h5><u><b>Answer:<u></b></h5>"
   ]
  },
  {
   "cell_type": "code",
   "execution_count": 94,
   "id": "f5792c89-848d-473e-b65f-9d28627017ae",
   "metadata": {},
   "outputs": [
    {
     "name": "stdout",
     "output_type": "stream",
     "text": [
      "The length of the string(str) is: 12\n"
     ]
    }
   ],
   "source": [
    "str=\"hello Python\"\n",
    "length=len(str)\n",
    "print(\"The length of the string(str) is:\",length)"
   ]
  },
  {
   "cell_type": "markdown",
   "id": "6ec24093-3b6d-422d-b149-a2d63fcd7065",
   "metadata": {},
   "source": [
    "<h4><b>Ques29:</b> Concatenate two strings and print the result. </h4>\n",
    "<h5><u><b>Answer:<u></b></h5>"
   ]
  },
  {
   "cell_type": "code",
   "execution_count": 91,
   "id": "1243e66c-96dc-4ac6-a5b7-dc6d5f01a12c",
   "metadata": {},
   "outputs": [
    {
     "name": "stdout",
     "output_type": "stream",
     "text": [
      "Full Name: Muskan Himalyan\n"
     ]
    }
   ],
   "source": [
    "str1=\"Muskan\"\n",
    "str2=\"Himalyan\"\n",
    "result=str1+\" \"+str2\n",
    "print(\"Full Name:\",result)"
   ]
  },
  {
   "cell_type": "markdown",
   "id": "df92270c-52ce-45ea-8e60-8ca645018b46",
   "metadata": {},
   "source": [
    "<h4><b>Ques30:</b> Extract the first 5 characters of the string \"Unisole Empower\"</h4>\n",
    "<h5><u><b>Answer:<u></b></h5>"
   ]
  },
  {
   "cell_type": "code",
   "execution_count": 96,
   "id": "40ed309b-639b-4392-a94c-c09881199f0e",
   "metadata": {},
   "outputs": [
    {
     "name": "stdout",
     "output_type": "stream",
     "text": [
      "The first charactor of string Unisole Empower is: Uniso\n"
     ]
    }
   ],
   "source": [
    "str=\"Unisole Empower\"\n",
    "result=str[0:5]\n",
    "print(\"The first  5 character of string Unisole Empower is:\",result)"
   ]
  },
  {
   "cell_type": "markdown",
   "id": "90683770-fa70-4e13-9c6b-c81b025aa6ce",
   "metadata": {},
   "source": [
    "<h4><b>Ques31:</b>Extract the last 4 characters of the string \"DataScience\". </h4>\n",
    "<h5><u><b>Answer:<u></b></h5>"
   ]
  },
  {
   "cell_type": "code",
   "execution_count": 97,
   "id": "2d2be7dd-50a2-4716-85d5-8d5a54438bd7",
   "metadata": {},
   "outputs": [
    {
     "name": "stdout",
     "output_type": "stream",
     "text": [
      "The last 4 character of string DataScience: ence\n"
     ]
    }
   ],
   "source": [
    "str=\"DataScience\"\n",
    "result=str[7:11]\n",
    "print(\"The last 4 character of string DataScience:\",result)"
   ]
  },
  {
   "cell_type": "markdown",
   "id": "dbf3141a-f7b1-476a-ba55-43ba639e1965",
   "metadata": {},
   "source": [
    "<h4><b>Ques32:</b> Write a program to reverse a string.</h4>\n",
    "<h5><u><b>Answer:<u></b></h5>"
   ]
  },
  {
   "cell_type": "code",
   "execution_count": 99,
   "id": "8d760ad6-9670-41a3-9809-7e43607e73d6",
   "metadata": {},
   "outputs": [
    {
     "name": "stdout",
     "output_type": "stream",
     "text": [
      "The reverse of str is: nohtyP\n"
     ]
    }
   ],
   "source": [
    "str=\"Python\"\n",
    "reverse_order=str[::-1]\n",
    "print(\"The reverse of str is:\",reverse_order)"
   ]
  },
  {
   "cell_type": "markdown",
   "id": "216d10af-7e74-4e15-947d-6ec505b55717",
   "metadata": {},
   "source": [
    "<h4><b>Ques33:</b> Check if a substring \"Empower\" exists in \"Unisole Empower\".</h4>\n",
    "<h5><u><b>Answer:<u></b></h5>"
   ]
  },
  {
   "cell_type": "code",
   "execution_count": 102,
   "id": "b4cac2dd-fa52-4000-bf5f-f78ddcf7599e",
   "metadata": {},
   "outputs": [
    {
     "name": "stdout",
     "output_type": "stream",
     "text": [
      "substring Found!\n"
     ]
    }
   ],
   "source": [
    "str=\"Unisole Empower\"\n",
    "substring=\"Empower\"\n",
    "if substring in str:\n",
    "    print(\"substring Found!\")\n",
    "else:\n",
    "    print(\"not found\")"
   ]
  },
  {
   "cell_type": "markdown",
   "id": "6a39529e-62d0-4b71-ba1b-473642144526",
   "metadata": {},
   "source": [
    "<h4><b>Ques34:</b> Replace \"Python\" with \"Data Science\" in the string \"I am learning Python\". </h4>\n",
    "<h5><u><b>Answer:<u></b></h5>"
   ]
  },
  {
   "cell_type": "code",
   "execution_count": 103,
   "id": "97dc968d-d388-4ee0-b99b-cb961960e63f",
   "metadata": {},
   "outputs": [
    {
     "name": "stdout",
     "output_type": "stream",
     "text": [
      "Now the string becomes: I am learning Data Science\n"
     ]
    }
   ],
   "source": [
    "str=\"I am learning Python\"\n",
    "replacing_str=str.replace(\"Python\",\"Data Science\")\n",
    "print(\"Now the string becomes:\",replacing_str)"
   ]
  },
  {
   "cell_type": "markdown",
   "id": "52eb0df7-8433-42b9-b071-c02b2143a8e8",
   "metadata": {},
   "source": [
    "<h4><b>Ques35:</b>Remove spaces from the string \" Hello World \". </h4>\n",
    "<h5><u><b>Answer:<u></b></h5>"
   ]
  },
  {
   "cell_type": "code",
   "execution_count": 109,
   "id": "c4150374-537e-47ef-bb99-f450aa900b07",
   "metadata": {},
   "outputs": [
    {
     "name": "stdout",
     "output_type": "stream",
     "text": [
      "Now the string becomes: HelloWorld\n"
     ]
    }
   ],
   "source": [
    "str=\"Hello World\"\n",
    "new_str=\"\".join(str.split())\n",
    "print(\"Now the string becomes:\",new_str)\n"
   ]
  },
  {
   "cell_type": "markdown",
   "id": "a987d356-d303-465e-a35c-a00bace6879c",
   "metadata": {},
   "source": [
    "<h4><b>Ques36:</b>Split the string \"apple,banana,mango\" into a list. </h4>\n",
    "<h5><u><b>Answer:<u></b></h5>"
   ]
  },
  {
   "cell_type": "code",
   "execution_count": 113,
   "id": "dfe76454-e009-4ad3-8d17-5cde88b63806",
   "metadata": {},
   "outputs": [
    {
     "name": "stdout",
     "output_type": "stream",
     "text": [
      "The list is: ['apple', ',banana,', 'mango']\n"
     ]
    }
   ],
   "source": [
    "str= \"apple,banana mango\"\n",
    "list=str.split()\n",
    "print(\"The list is:\",list)"
   ]
  },
  {
   "cell_type": "markdown",
   "id": "25744547-10e4-4daf-8d02-ed7695ebe326",
   "metadata": {},
   "source": [
    "<h4><b>Ques37:</b>Join the list [\"AI\", \"ML\", \"DL\"] into a string with - separator. </h4>\n",
    "<h5><u><b>Answer:<u></b></h5>"
   ]
  },
  {
   "cell_type": "code",
   "execution_count": 114,
   "id": "1c6fad2d-fe40-4af9-965c-f622c0adbb9f",
   "metadata": {},
   "outputs": [
    {
     "name": "stdout",
     "output_type": "stream",
     "text": [
      "Now the string is: AI-ML-DL\n"
     ]
    }
   ],
   "source": [
    "list= [\"AI\", \"ML\", \"DL\"] \n",
    "str=\"-\".join(list)\n",
    "print(\"Now the string is:\",str)"
   ]
  },
  {
   "cell_type": "markdown",
   "id": "d8f8e3f3-59d0-4602-967e-2d3238f51020",
   "metadata": {},
   "source": [
    "<h4><b>Ques38:</b>Write a program to count the number of vowels in a string.</h4>\n",
    "<h5><u><b>Answer:<u></b></h5>"
   ]
  },
  {
   "cell_type": "code",
   "execution_count": 123,
   "id": "bc93cb91-c7f0-4351-94aa-cc157ddbb38c",
   "metadata": {},
   "outputs": [
    {
     "name": "stdin",
     "output_type": "stream",
     "text": [
      "Enter any string Muskan\n"
     ]
    },
    {
     "name": "stdout",
     "output_type": "stream",
     "text": [
      "Number of vowels: 2\n"
     ]
    }
   ],
   "source": [
    "text=input(\"Enter any string\")\n",
    "vowels=\"aeiouAEIOU\"\n",
    "count=0\n",
    "for char in text:\n",
    "  if char in vowels:\n",
    "      count +=1\n",
    "print(\"Number of vowels:\",count)      \n"
   ]
  },
  {
   "cell_type": "markdown",
   "id": "b2a46a47-b849-45f5-8186-ff5ad07c0403",
   "metadata": {},
   "source": [
    "<h4><b>Ques39:</b>Check if a string is palindrome or not. </h4>\n",
    "<h5><u><b>Answer:<u></b></h5>"
   ]
  },
  {
   "cell_type": "code",
   "execution_count": 126,
   "id": "6945eb0a-e3e4-4cd7-85a7-615e8d4ad8c9",
   "metadata": {},
   "outputs": [
    {
     "name": "stdin",
     "output_type": "stream",
     "text": [
      "Enter any string madam\n"
     ]
    },
    {
     "name": "stdout",
     "output_type": "stream",
     "text": [
      "madam is a palindrome.\n"
     ]
    }
   ],
   "source": [
    "text=input(\"Enter any string\")\n",
    "reverse_text=text[::-1]\n",
    "if text==reverse_text :\n",
    "    print(f\"{text} is a palindrome.\")\n",
    "else:\n",
    "    print(f\"{text} is not a palindrome.\")"
   ]
  },
  {
   "cell_type": "markdown",
   "id": "7d492f22-87b8-479f-9950-2272166c422b",
   "metadata": {},
   "source": [
    "<h4><b>Ques40:</b> Write a program to print each character of a string on a new line. </h4>\n",
    "<h5><u><b>Answer:<u></b></h5>"
   ]
  },
  {
   "cell_type": "code",
   "execution_count": 128,
   "id": "cba40042-9f4d-4aa8-84a6-0d3fe514a93f",
   "metadata": {},
   "outputs": [
    {
     "name": "stdin",
     "output_type": "stream",
     "text": [
      "Enter a string: Python\n"
     ]
    },
    {
     "name": "stdout",
     "output_type": "stream",
     "text": [
      "The characters are: P\n",
      "The characters are: y\n",
      "The characters are: t\n",
      "The characters are: h\n",
      "The characters are: o\n",
      "The characters are: n\n"
     ]
    }
   ],
   "source": [
    "text=input(\"Enter a string:\")\n",
    "for char in text :\n",
    "   print(\"The characters are:\",char)"
   ]
  },
  {
   "cell_type": "markdown",
   "id": "8129ed7d-a0e7-4143-9779-a17bf7d0cc6f",
   "metadata": {},
   "source": [
    "<h4><b>Ques41:</b>Convert \"12345\" (string) into integer and perform addition with another integer. </h4>\n",
    "<h5><u><b>Answer:<u></b></h5>"
   ]
  },
  {
   "cell_type": "code",
   "execution_count": 129,
   "id": "76e7e1b2-0bd8-4af2-8f64-5de10d4df715",
   "metadata": {},
   "outputs": [
    {
     "name": "stdout",
     "output_type": "stream",
     "text": [
      "Addition: 12400\n"
     ]
    }
   ],
   "source": [
    "str=\"12345\"\n",
    "integer=int(str)\n",
    "another_num=55\n",
    "print(\"Addition:\",integer + another_num)"
   ]
  },
  {
   "cell_type": "markdown",
   "id": "11b201d0-5751-4da2-b04c-4084ccd85a1f",
   "metadata": {},
   "source": [
    "<h4><b>Ques42:</b> Find the index of \"E\" in \"Empower\". </h4>\n",
    "<h5><u><b>Answer:<u></b></h5>"
   ]
  },
  {
   "cell_type": "code",
   "execution_count": 132,
   "id": "1651fc73-ff9a-47ec-b968-5afc2ede9da8",
   "metadata": {},
   "outputs": [
    {
     "name": "stdout",
     "output_type": "stream",
     "text": [
      "The index of E in Empower: 0\n"
     ]
    }
   ],
   "source": [
    "str=\"Empower\"\n",
    "index=str.find(\"E\")\n",
    "print(\"The index of E in Empower:\",index)"
   ]
  },
  {
   "cell_type": "markdown",
   "id": "1775c3be-f947-4c00-9ca4-1e50f373c3c8",
   "metadata": {},
   "source": [
    "<h4><b>Ques43:</b> Use slicing to print characters from index 2 to 6 of \"DataScience\". </h4>\n",
    "<h5><u><b>Answer:<u></b></h5>"
   ]
  },
  {
   "cell_type": "code",
   "execution_count": 133,
   "id": "a6960c37-17e0-4d40-9061-ea309526d8ca",
   "metadata": {},
   "outputs": [
    {
     "name": "stdout",
     "output_type": "stream",
     "text": [
      "taSci\n"
     ]
    }
   ],
   "source": [
    "str=\"DataScience\"\n",
    "print(str[2:7])"
   ]
  },
  {
   "cell_type": "markdown",
   "id": "65708f06-45d9-49bd-baee-7aaa4177d2f9",
   "metadata": {},
   "source": [
    "<h4><b>Ques44:</b>Demonstrate difference between single quotes, double quotes, and triple quotes.</h4>\n",
    "<h5><u><b>Answer:<u></b></h5>"
   ]
  },
  {
   "cell_type": "markdown",
   "id": "0fe8d566-1697-4d80-9b2c-52f24e75d575",
   "metadata": {},
   "source": [
    "\n",
    "<h3><u><b><span style=\"color:red\">single quote</span></b></u></h3>\n",
    "\n"
   ]
  },
  {
   "cell_type": "markdown",
   "id": "78bad80e-53c9-4989-a0c0-294854cb2546",
   "metadata": {},
   "source": [
    "\n",
    "<h4>Used for short,single line strings.</h4>\n"
   ]
  },
  {
   "cell_type": "code",
   "execution_count": 184,
   "id": "9402901a-aaf1-4250-a177-aedffcb9ab65",
   "metadata": {},
   "outputs": [
    {
     "name": "stdout",
     "output_type": "stream",
     "text": [
      "hello UNISOLE\n"
     ]
    }
   ],
   "source": [
    "str1='hello UNISOLE'\n",
    "print(str1)"
   ]
  },
  {
   "cell_type": "markdown",
   "id": "e80f6e17-f5b4-4139-bf52-761405aa7be4",
   "metadata": {},
   "source": [
    "<h3><u><span style=\"color:red\">double quote</u></span><h3>\n",
    "<h4> Used for single line string as well as just like quote</h4>\n"
   ]
  },
  {
   "cell_type": "code",
   "execution_count": 185,
   "id": "f54ba58e-cd27-4f2d-ac99-513cdde9aa4e",
   "metadata": {},
   "outputs": [
    {
     "name": "stdout",
     "output_type": "stream",
     "text": [
      "book\n"
     ]
    }
   ],
   "source": [
    "str2=\"book\"\n",
    "print(str2)"
   ]
  },
  {
   "cell_type": "markdown",
   "id": "3ff85b53-6b9e-4b86-bb73-3cf2177386a5",
   "metadata": {},
   "source": [
    "<h3><u></u><span style=\"color:red\">Triple quote</span></h3></u><h3>\n"
   ]
  },
  {
   "cell_type": "markdown",
   "id": "8a0765ef-a521-4fd1-aa65-7989f328078c",
   "metadata": {},
   "source": [
    "<h4>Used for multiline strings or docstring(function or class documentation).</h4>"
   ]
  },
  {
   "cell_type": "code",
   "execution_count": 186,
   "id": "d41d9b3e-b625-4dde-950f-5e0c912d635a",
   "metadata": {},
   "outputs": [
    {
     "name": "stdout",
     "output_type": "stream",
     "text": [
      "my name is Alisha. i am pursuing btech in computer science from VIT Vellore\n"
     ]
    }
   ],
   "source": [
    "str3=\"\"\"my name is Alisha. i am pursuing btech in computer science from VIT Vellore\"\"\"\n",
    "print(str3)"
   ]
  },
  {
   "cell_type": "markdown",
   "id": "297084fe-2e6f-42fe-9a93-236e211af1ca",
   "metadata": {},
   "source": [
    "<span style=\"color:red\"></span>\n"
   ]
  },
  {
   "cell_type": "markdown",
   "id": "34665634-395e-40b7-934b-f6173471fcd3",
   "metadata": {},
   "source": [
    "<h4><b>Ques45:</b> Format a string using the .format() method. Example: \"My name is {}, I am {} \n",
    "years old\". </h4>\n",
    "<h5><u><b>Answer:<u></b></h5>"
   ]
  },
  {
   "cell_type": "code",
   "execution_count": 146,
   "id": "75f4f59e-cf60-4945-bd12-1f23af0a671a",
   "metadata": {},
   "outputs": [
    {
     "name": "stdout",
     "output_type": "stream",
     "text": [
      "My name is Muskan,I am 19 years old\n"
     ]
    }
   ],
   "source": [
    "name=\"Muskan\"\n",
    "age=19\n",
    "message=\"My name is {},I am {} years old .\".format(name,age)\n",
    "print(message)"
   ]
  },
  {
   "cell_type": "markdown",
   "id": "613afe91-29a2-4a9b-8dfd-8104b7436429",
   "metadata": {},
   "source": [
    "<h4><b>Ques46:</b> Count how many times \"a\" appears in \"banana\". </h4>\n",
    "<h5><u><b>Answer:<u></b></h5>"
   ]
  },
  {
   "cell_type": "code",
   "execution_count": 137,
   "id": "1941c1ef-db83-4f5a-b4f9-29f30a71cc5a",
   "metadata": {},
   "outputs": [
    {
     "name": "stdout",
     "output_type": "stream",
     "text": [
      "no. of times 'a' appears in 'banana': 3\n"
     ]
    }
   ],
   "source": [
    "text=\"banana\"\n",
    "str=\"a\"\n",
    "count=0\n",
    "for char in text :\n",
    "   if char in str:\n",
    "     count +=1\n",
    "print(\"no. of times 'a' appears in 'banana':\",count)"
   ]
  },
  {
   "cell_type": "markdown",
   "id": "17532466-d6b7-430a-b0ca-5bc3455a248e",
   "metadata": {},
   "source": [
    "<h4><b>Ques47:</b> Write a program to check if a string starts with \"Uni\" and ends with \"wer\"</h4>\n",
    "<h5><u><b>Answer:<u></b></h5>"
   ]
  },
  {
   "cell_type": "code",
   "execution_count": 145,
   "id": "3e17c948-faa5-451c-b7e9-b0c3a212a52e",
   "metadata": {},
   "outputs": [
    {
     "name": "stdin",
     "output_type": "stream",
     "text": [
      "Enter any string Unisole Empower\n"
     ]
    },
    {
     "name": "stdout",
     "output_type": "stream",
     "text": [
      "Unisole Empower start with 'Uni' and end with 'wer' \n"
     ]
    }
   ],
   "source": [
    "str=input(\"Enter any string\")\n",
    "if str.startswith(\"Uni\")and str.endswith(\"wer\"):\n",
    "     print(f\"{str} start with 'Uni' and end with 'wer' \") \n",
    "else:\n",
    "     print(f\"{str} does not start with 'Uni' and end with 'wer' \")\n"
   ]
  },
  {
   "cell_type": "markdown",
   "id": "5fb8e519-9284-40cd-8467-0d07d22b7d6a",
   "metadata": {},
   "source": [
    "<h4><b>Ques48:</b>Explain string immutability with an example. </h4>\n",
    "<h5><u><b>Answer:<u></b></h5>"
   ]
  },
  {
   "cell_type": "markdown",
   "id": "151d25a6-d971-40e7-9c25-577a5b511139",
   "metadata": {},
   "source": [
    "<h3><u><span style=\"color:red\">String immutablity</span></u></h3>\n",
    "<h4> It means once you create a string ,you cannout modify its content -you can only create a new string</h4>"
   ]
  },
  {
   "cell_type": "markdown",
   "id": "590d909b-a821-4191-bbb8-80fef9c7896d",
   "metadata": {},
   "source": [
    "str1=\"Hello\"\n",
    "text[0]= 'y'  #trying to change first letter"
   ]
  },
  {
   "cell_type": "markdown",
   "id": "c2ea1469-4eb4-4f1a-a5ec-c6e6be509924",
   "metadata": {},
   "source": [
    "<b>TypeError:'str' object does not support item assignment.</b>"
   ]
  },
  {
   "cell_type": "markdown",
   "id": "a6b2be5d-db40-4116-9aac-1dfa5a7fd8ed",
   "metadata": {},
   "source": [
    "<h4><b>Ques49:</b> Write a program to remove all digits from the string \"Unisole123Empower456\".</h4>\n",
    "<h5><u><b>Answer:<u></b></h5>"
   ]
  },
  {
   "cell_type": "code",
   "execution_count": 158,
   "id": "e2f7396a-a355-42c3-9ed6-43b237913c3a",
   "metadata": {},
   "outputs": [
    {
     "name": "stdout",
     "output_type": "stream",
     "text": [
      "string without Digits: U n i s o l e E m p o w e r\n"
     ]
    }
   ],
   "source": [
    "text=\"Unisole123Empower456\"\n",
    "result=' '.join([ch for ch in text if not ch.isdigit()])\n",
    "print(\"string without Digits:\",result)"
   ]
  },
  {
   "cell_type": "markdown",
   "id": "36215833-c48e-4c45-a243-a9aa642466b3",
   "metadata": {},
   "source": [
    "<h4><b>Ques50:</b>Write a program to check if a string contains only alphabets. </h4>\n",
    "<h5><u><b>Answer:<u></b></h5>"
   ]
  },
  {
   "cell_type": "code",
   "execution_count": 150,
   "id": "4de6835b-4581-4989-bcc2-c6fc777eb061",
   "metadata": {},
   "outputs": [
    {
     "name": "stdin",
     "output_type": "stream",
     "text": [
      "Enter any text: Unisole\n"
     ]
    },
    {
     "name": "stdout",
     "output_type": "stream",
     "text": [
      "Unisole contains only alphabets.\n"
     ]
    }
   ],
   "source": [
    "text=input(\"Enter any text:\")\n",
    "if text.isalpha():\n",
    "    print(f\"{text} contains only alphabets.\")\n",
    "else:\n",
    "    priny(f\"{text} contains not only alphabets.\")\n"
   ]
  },
  {
   "cell_type": "markdown",
   "id": "cb780ac6-afe9-4abc-8c9e-27cf0d4b2c02",
   "metadata": {},
   "source": [
    "<h4><b>Ques51:</b> Write a program to check if a string contains only digits.</h4>\n",
    "<h5><u><b>Answer:<u></b></h5>"
   ]
  },
  {
   "cell_type": "code",
   "execution_count": 149,
   "id": "0a4e82c9-5a68-4ad5-a8bc-8a73de35a9bb",
   "metadata": {},
   "outputs": [
    {
     "name": "stdin",
     "output_type": "stream",
     "text": [
      "Enter any text: Python\n"
     ]
    },
    {
     "name": "stdout",
     "output_type": "stream",
     "text": [
      "Python does not contains only digits\n"
     ]
    }
   ],
   "source": [
    "text=input(\"Enter any text:\")\n",
    "if text.isdigit():\n",
    "    print(f\"{text} contains only digits\")\n",
    "else:\n",
    "    print(f\"{text} does not contains only digits\")"
   ]
  },
  {
   "cell_type": "markdown",
   "id": "ef064ab6-0b8b-408a-a9c6-5a1023ac936b",
   "metadata": {},
   "source": [
    "<h4><b>Ques52:</b>Create a multiline string and print it.</h4>\n",
    "<h5><u><b>Answer:<u></b></h5> \n"
   ]
  },
  {
   "cell_type": "code",
   "execution_count": 188,
   "id": "1b6b2aac-637f-43ff-83b3-f8dd64acd34c",
   "metadata": {},
   "outputs": [
    {
     "name": "stdout",
     "output_type": "stream",
     "text": [
      "Hello everyone, my name is Muskan and I am the learning Full Stack Data Science Course .I am learning various concept .\n"
     ]
    }
   ],
   "source": [
    "message=\"\"\"Hello everyone, my name is Muskan and I am the learning Full Stack Data Science Course .I am learning various concept .\"\"\"\n",
    "print(message)"
   ]
  },
  {
   "cell_type": "markdown",
   "id": "4fedeca0-7df6-4b69-96eb-7180b1074d94",
   "metadata": {},
   "source": [
    "<h4><b>Ques53:</b>Write a program that takes a string input from the user and prints it in reverse.</h4>\n",
    "<h5><u><b>Answer:<u></b></h5> \n"
   ]
  },
  {
   "cell_type": "code",
   "execution_count": 153,
   "id": "4166c505-7083-40de-9721-7c07b3ca1bb0",
   "metadata": {},
   "outputs": [
    {
     "name": "stdin",
     "output_type": "stream",
     "text": [
      "Enter a string: HELLO WORLD\n"
     ]
    },
    {
     "name": "stdout",
     "output_type": "stream",
     "text": [
      "The reverse of the string is : DLROW OLLEH\n"
     ]
    }
   ],
   "source": [
    "str=input(\"Enter a string:\")\n",
    "reverse=str[::-1]\n",
    "print(\"The reverse of the string is :\", reverse)\n"
   ]
  },
  {
   "cell_type": "markdown",
   "id": "7244a80f-c2ed-4d7d-963c-69b350952831",
   "metadata": {},
   "source": [
    "<h4><b>Ques54:</b>Explain raw strings with an example. </h4>\n",
    "<h5><u><b>Answer:<u></b></h5> \n"
   ]
  },
  {
   "cell_type": "markdown",
   "id": "a7f91dcc-f5cf-4be6-89b3-90e9a0f9262b",
   "metadata": {},
   "source": [
    "<h4><b><u><span style=\"color:red\">Raw strings</span></b></u>\n",
    "<h5> In Python , a raw string is a string prefixed with the letter r or R .It tell not to treat backslashes (/) as a escape characters. </h5>\n"
   ]
  },
  {
   "cell_type": "markdown",
   "id": "52ea0868-81d2-4a3c-8a54-168712fff240",
   "metadata": {},
   "source": [
    "<h5><u><b>Example:</b></u></h5>"
   ]
  },
  {
   "cell_type": "code",
   "execution_count": 182,
   "id": "39498ba2-8b95-43ee-b480-532521e6619c",
   "metadata": {},
   "outputs": [
    {
     "name": "stdout",
     "output_type": "stream",
     "text": [
      "hello\\nWorld\n"
     ]
    }
   ],
   "source": [
    "text=r\"hello\\nWorld\"    #raw string\n",
    "print(text)"
   ]
  },
  {
   "cell_type": "markdown",
   "id": "754d03c8-ca5c-4af8-bf2d-1c409191d368",
   "metadata": {},
   "source": [
    "<h4><b>Ques55:</b> Write a program to capitalize the first letter of each word in a string. </h4>\n",
    "<h5><u><b>Answer:<u></b></h5> \n"
   ]
  },
  {
   "cell_type": "code",
   "execution_count": 156,
   "id": "6f541b61-d033-4e9e-a2f9-52129ad8726b",
   "metadata": {},
   "outputs": [
    {
     "name": "stdin",
     "output_type": "stream",
     "text": [
      "Enter the string: unisole empower\n"
     ]
    },
    {
     "name": "stdout",
     "output_type": "stream",
     "text": [
      "The capitalize string is: Unisole Empower\n"
     ]
    }
   ],
   "source": [
    "str=input(\"Enter the string:\")\n",
    "capital_letter=str.title()\n",
    "print(\"The capitalize string is:\",capital_letter)"
   ]
  },
  {
   "cell_type": "markdown",
   "id": "110551dc-348f-4940-8f66-146d59bb5728",
   "metadata": {},
   "source": [
    "<h4><b>Ques56:</b>Check if string is a valid email address. </h4>\n",
    "<h5><u><b>Answer:<u></b></h5> \n"
   ]
  },
  {
   "cell_type": "code",
   "execution_count": 14,
   "id": "19fd5bbc-bbac-45ca-9432-15ed2ba3ac50",
   "metadata": {},
   "outputs": [
    {
     "name": "stdin",
     "output_type": "stream",
     "text": [
      "Enter an email address himalyanmuskan@gmail.com\n"
     ]
    },
    {
     "name": "stdout",
     "output_type": "stream",
     "text": [
      "Valid email address \n"
     ]
    }
   ],
   "source": [
    "import re\n",
    "email=input(\"Enter an email address\")\n",
    "\n",
    "# Regular expression for validating an Email\n",
    "pattern = r'^[a-zA-Z0-9._%+-]+@[a-zA-Z0-9.-]+\\.[a-zA-Z]{2,}$'\n",
    "\n",
    "if re.match(pattern, email):\n",
    "    print(\"Valid email address \")\n",
    "else:\n",
    "    print(\"Invalid email address \")\n"
   ]
  },
  {
   "cell_type": "markdown",
   "id": "31d89500-2098-4810-a055-b72a771d316c",
   "metadata": {},
   "source": [
    "<h4><b>Ques57:</b>Extract the protocol (http or https ) from a URL string.</h4>\n",
    "<h5><u><b>Answer:<u></b></h5> \n"
   ]
  },
  {
   "cell_type": "code",
   "execution_count": 15,
   "id": "3d238cc4-0c2a-4f97-8c15-b40b1249cb1a",
   "metadata": {},
   "outputs": [
    {
     "name": "stdin",
     "output_type": "stream",
     "text": [
      "Enter the url: https://web.com\n"
     ]
    },
    {
     "name": "stdout",
     "output_type": "stream",
     "text": [
      "Protocol: https\n"
     ]
    }
   ],
   "source": [
    "url=input(\"Enter the url:\")\n",
    "# Split at '://'\n",
    "if \"://\" in url:\n",
    "    protocol = url.split(\"://\")[0]\n",
    "    print(\"Protocol:\", protocol)\n",
    "else:\n",
    "    print(\"No protocol  is found in given URL\")"
   ]
  },
  {
   "cell_type": "markdown",
   "id": "bca1d4cf-ed2c-4a2f-99bb-85343f0428d1",
   "metadata": {},
   "source": [
    "<h4><b>Ques58:</b>Find the frequency of each character in a string. </h4>\n",
    "<h5><u><b>Answer:<u></b></h5> \n"
   ]
  },
  {
   "cell_type": "code",
   "execution_count": 160,
   "id": "4db533c6-c641-4cd2-84f6-244052500fad",
   "metadata": {},
   "outputs": [
    {
     "name": "stdin",
     "output_type": "stream",
     "text": [
      "Enter any string: basics of python\n"
     ]
    },
    {
     "name": "stdout",
     "output_type": "stream",
     "text": [
      "Character frequencies:\n",
      " 'b':1\n",
      " 'a':1\n",
      " 's':2\n",
      " 'i':1\n",
      " 'c':1\n",
      " ' ':2\n",
      " 'o':2\n",
      " 'f':1\n",
      " 'p':1\n",
      " 'y':1\n",
      " 't':1\n",
      " 'h':1\n",
      " 'n':1\n"
     ]
    }
   ],
   "source": [
    "text=input(\"Enter any string:\")\n",
    "freq={}\n",
    "for char in text:\n",
    "    if char in freq:\n",
    "        freq[char] += 1\n",
    "    else:\n",
    "        freq[char] = 1\n",
    "print(\"Character frequencies:\")\n",
    "for char,count in freq.items():\n",
    "    print(f\" '{char}':{count}\")"
   ]
  },
  {
   "cell_type": "markdown",
   "id": "b54eef05-437d-4de1-8ac3-21ecb3e39b32",
   "metadata": {},
   "source": [
    "<h4><b>Ques59:</b> Check if strings are anagrams.  </h4>\n",
    "<h5><u><b>Answer:<u></b></h5> \n"
   ]
  },
  {
   "cell_type": "code",
   "execution_count": 162,
   "id": "1ba5f208-641d-4059-bc31-573683daf193",
   "metadata": {},
   "outputs": [
    {
     "name": "stdin",
     "output_type": "stream",
     "text": [
      "Enter first string: listen\n",
      "Enter second string: silent\n"
     ]
    },
    {
     "name": "stdout",
     "output_type": "stream",
     "text": [
      "These are anagrams.\n"
     ]
    }
   ],
   "source": [
    "str1=input(\"Enter first string:\").replace(\" \",\"\").lower()\n",
    "str2=input(\"Enter second string:\").replace(\" \",\"\").lower()\n",
    "if sorted(str1)==sorted(str2):\n",
    "    print(\"These are anagrams.\")\n",
    "else:\n",
    "    sorted(\"These are not anagrams.\")"
   ]
  },
  {
   "cell_type": "markdown",
   "id": "f99d7b66-8ec9-4858-a4ed-56dc48a26853",
   "metadata": {},
   "source": [
    "<h4><b>Ques60:</b> Encode a string using a Caesar Cipher. </h4>\n",
    "<h5><u><b>Answer:<u></b></h5> \n"
   ]
  },
  {
   "cell_type": "code",
   "execution_count": 12,
   "id": "4aa69352-5d7e-4f2b-aa9d-5ea9422fcd59",
   "metadata": {},
   "outputs": [
    {
     "name": "stdin",
     "output_type": "stream",
     "text": [
      "Enter text which you want to encode:  hamirpur\n",
      "Enter  the value by which you want shift value:  2\n"
     ]
    },
    {
     "name": "stdout",
     "output_type": "stream",
     "text": [
      "Encoded text: jcoktrwt\n"
     ]
    }
   ],
   "source": [
    "text = input(\"Enter text which you want to encode: \")\n",
    "shift = int(input(\"Enter  the value by which you want shift value: \"))\n",
    "\n",
    "result = \"\"\n",
    "\n",
    "for ch in text:\n",
    "    if ch.isalpha():\n",
    "        base = ord('A') if ch.isupper() else ord('a')\n",
    "        result += chr((ord(ch) - base + shift) % 26 + base)\n",
    "    else:\n",
    "        result += ch\n",
    "\n",
    "print(\"Encoded text:\", result)\n"
   ]
  },
  {
   "cell_type": "markdown",
   "id": "6ef6017d-2fa5-4ac3-a0c5-a5eb4f79bb13",
   "metadata": {},
   "source": [
    "<h4><b>In a Caesar Cipher</b> : it shifts each letter by fixed number of positions in the alphabet</h4>"
   ]
  },
  {
   "cell_type": "code",
   "execution_count": 179,
   "id": "c6b47db2-4fee-444f-983f-a7a10be0e6ce",
   "metadata": {},
   "outputs": [
    {
     "name": "stdin",
     "output_type": "stream",
     "text": [
      "Enter a word hello\n",
      "Enter the value to shift: 2\n"
     ]
    },
    {
     "name": "stdout",
     "output_type": "stream",
     "text": [
      "Encoded message: \n"
     ]
    }
   ],
   "source": [
    "text=input(\"Enter a word\")\n",
    "shift=int(input(\"Enter the value to shift:\"))\n",
    "encoded_text=\"\"\n",
    "for char in text:\n",
    "    if char.isalpha():\n",
    "            base = ord('A') if char.isupper()  else ord('a')\n",
    "            encoded_char= chr((ord(char)-base + shift) % 26 + base)\n",
    "    else: \n",
    "            encoded_text += char\n",
    "print(\"Encoded message:\",encoded_text)"
   ]
  },
  {
   "cell_type": "markdown",
   "id": "8d257ad1-2305-4e1e-8a05-96b578840f44",
   "metadata": {},
   "source": [
    "<h4><b>Ques61:</b> Decode a Caesar Cipher encoded string.  </h4>\n",
    "<h5><u><b>Answer:</u></b></h5> \n"
   ]
  },
  {
   "cell_type": "code",
   "execution_count": 10,
   "id": "05a1a713-5481-4b96-96a8-1766332a2cb7",
   "metadata": {},
   "outputs": [
    {
     "name": "stdin",
     "output_type": "stream",
     "text": [
      "Enter encoded text:  PYTHON\n",
      "Enter shift value:  3\n"
     ]
    },
    {
     "name": "stdout",
     "output_type": "stream",
     "text": [
      "Decoded text: MVQELK\n"
     ]
    }
   ],
   "source": [
    "text = input(\"Enter encoded text: \")\n",
    "shift = int(input(\"Enter shift value: \"))\n",
    "\n",
    "result = \"\"\n",
    "\n",
    "for ch in text:\n",
    "    if ch.isalpha():\n",
    "        base = ord('A') if ch.isupper() else ord('a')\n",
    "        result += chr((ord(ch) - base - shift) % 26 + base)\n",
    "    else:\n",
    "        result += ch\n",
    "\n",
    "print(\"Decoded text:\", result)\n"
   ]
  },
  {
   "cell_type": "markdown",
   "id": "31e77e5f-5ef5-4662-a619-ecd2dbc83728",
   "metadata": {},
   "source": [
    "<h4><b>Ques62:</b> Find all unique words in a string. </h4>\n",
    "<h5><u><b>Answer:</u></b></h5>"
   ]
  },
  {
   "cell_type": "code",
   "execution_count": 2,
   "id": "8317dcf7-1a10-4e7b-9b19-bd52a94dbf00",
   "metadata": {},
   "outputs": [
    {
     "name": "stdin",
     "output_type": "stream",
     "text": [
      "Enter any string: hello python basics\n"
     ]
    },
    {
     "name": "stdout",
     "output_type": "stream",
     "text": [
      "unique words in the string: {'python', 'hello', 'basics'}\n"
     ]
    }
   ],
   "source": [
    "text=input(\"Enter any string:\")\n",
    "unique_words= set(text.split())\n",
    "print(\"unique words in the string:\",unique_words)"
   ]
  },
  {
   "cell_type": "markdown",
   "id": "e1713a30-26f0-4946-a70c-312e47af89bd",
   "metadata": {},
   "source": [
    "<h4><b>Ques63:</b> Remove the nth word from a string.  </h4>\n",
    "<h5><u><b>Answer:<u></b></h5> \n"
   ]
  },
  {
   "cell_type": "code",
   "execution_count": 5,
   "id": "a6f6515a-3691-497a-b245-3e950ac48fef",
   "metadata": {},
   "outputs": [
    {
     "name": "stdout",
     "output_type": "stream",
     "text": [
      "Initial sentence : Unisole is a powerful app\n",
      "After removing nth string 3 word: Unisole is powerful app\n"
     ]
    }
   ],
   "source": [
    "\n",
    "def remove_nth_word(sentence, n):\n",
    "    words = sentence.split()          # Split the string into words\n",
    "    if 1 <= n <= len(words):          # Check if n is valid\n",
    "        del words[n - 1]              # Remove the nth word (index starts from 0)\n",
    "    return \" \".join(words)  \n",
    "\n",
    " #example\n",
    "sentence = \"Unisole is a powerful app\"\n",
    "n = 3\n",
    "result = remove_nth_word(sentence, n)\n",
    "print(\"Initial sentence :\", sentence)\n",
    "print(\"After removing nth string\", n, \"word:\", result)   "
   ]
  },
  {
   "cell_type": "markdown",
   "id": "c80f9032-18b8-4efc-88e6-11a1ade3cc44",
   "metadata": {},
   "source": [
    "<h4><b>Ques64:</b> Insert a word at the nth position in a string. </h4>\n",
    "<h5><u><b>Answer:<u></b></h5> \n"
   ]
  },
  {
   "cell_type": "code",
   "execution_count": 6,
   "id": "65359172-107b-443b-a88c-907fc05f6d10",
   "metadata": {},
   "outputs": [
    {
     "name": "stdin",
     "output_type": "stream",
     "text": [
      "Enter a string:  useful assignments of Python\n",
      "Enter the word to insert:  Basics\n",
      "Enter the position (starting from 1):  5\n"
     ]
    },
    {
     "name": "stdout",
     "output_type": "stream",
     "text": [
      "String after insertion: useful assignments of Python Basics\n"
     ]
    }
   ],
   "source": [
    "# Input string\n",
    "text = input(\"Enter a string: \")\n",
    "word = input(\"Enter the word to insert: \")\n",
    "n = int(input(\"Enter the position (starting from 1): \"))\n",
    "\n",
    "# Find the position to insert\n",
    "spaces = 0\n",
    "index = 0\n",
    "\n",
    "# Loop to find nth position \n",
    "for i in range(len(text)):\n",
    "    if text[i] == ' ':\n",
    "        spaces += 1\n",
    "    if spaces == n - 1:\n",
    "        index = i\n",
    "        break\n",
    "\n",
    "# Insert the word\n",
    "if n == 1:\n",
    "    new_text = word + \" \" + text\n",
    "elif spaces < n - 1:  #\n",
    "    new_text = text + \" \" + word\n",
    "else:\n",
    "    new_text = text[:index] + \" \" + word + text[index:]\n",
    "\n",
    "print(\"String after insertion:\", new_text)\n"
   ]
  },
  {
   "cell_type": "code",
   "execution_count": null,
   "id": "4cdefffe-cd47-489f-b346-8111a1df8c07",
   "metadata": {},
   "outputs": [],
   "source": []
  }
 ],
 "metadata": {
  "kernelspec": {
   "display_name": "Python 3 (ipykernel)",
   "language": "python",
   "name": "python3"
  },
  "language_info": {
   "codemirror_mode": {
    "name": "ipython",
    "version": 3
   },
   "file_extension": ".py",
   "mimetype": "text/x-python",
   "name": "python",
   "nbconvert_exporter": "python",
   "pygments_lexer": "ipython3",
   "version": "3.13.5"
  }
 },
 "nbformat": 4,
 "nbformat_minor": 5
}
